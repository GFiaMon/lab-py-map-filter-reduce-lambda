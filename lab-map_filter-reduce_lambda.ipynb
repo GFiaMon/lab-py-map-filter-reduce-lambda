{
 "cells": [
  {
   "cell_type": "markdown",
   "metadata": {},
   "source": [
    "# LAB | Map, Reduce, Filter, and Lambda in Python"
   ]
  },
  {
   "cell_type": "markdown",
   "metadata": {},
   "source": [
    "## Overview\n",
    "This exercise notebook will help you practice using `map`, `reduce`, `filter`, and `lambda` functions in Python. These functional programming techniques allow for concise and efficient data manipulation.\n",
    "\n",
    "## Instructions\n",
    "- Complete each exercise by writing the appropriate code in the provided space.\n",
    "- Test your code to ensure it works as expected.\n",
    "- Feel free to use comments to explain your thought process."
   ]
  },
  {
   "cell_type": "markdown",
   "metadata": {},
   "source": [
    "### Exercise 1: Triple All Numbers\n",
    "Write a Python program that triples all numbers in a given list of integers using the `map` function.\n"
   ]
  },
  {
   "cell_type": "code",
   "execution_count": 2,
   "metadata": {},
   "outputs": [
    {
     "name": "stdout",
     "output_type": "stream",
     "text": [
      "[3, 6, 9, 12, 15]\n"
     ]
    }
   ],
   "source": [
    "# Sample input\n",
    "numbers = [1, 2, 3, 4, 5]\n",
    "\n",
    "# Your code here\n",
    "def triple(x):\n",
    "    return x * 3\n",
    "\n",
    "tripled = list(map(triple, numbers))\n",
    "print(tripled)\n"
   ]
  },
  {
   "cell_type": "code",
   "execution_count": 3,
   "metadata": {},
   "outputs": [
    {
     "name": "stdout",
     "output_type": "stream",
     "text": [
      "[3, 6, 9, 12, 15]\n"
     ]
    }
   ],
   "source": [
    "tripled = list(map(lambda x: x * 3, numbers))\n",
    "print(tripled)"
   ]
  },
  {
   "cell_type": "markdown",
   "metadata": {},
   "source": [
    "### Exercise 2: Add Three Lists\n",
    "Write a Python program that adds three given lists element-wise using the `map` function and `lambda`."
   ]
  },
  {
   "cell_type": "code",
   "execution_count": 4,
   "metadata": {},
   "outputs": [
    {
     "name": "stdout",
     "output_type": "stream",
     "text": [
      "[12, 15, 18]\n"
     ]
    }
   ],
   "source": [
    "# Sample input\n",
    "list1 = [1, 2, 3]\n",
    "list2 = [4, 5, 6]\n",
    "list3 = [7, 8, 9]\n",
    "'''\n",
    "def list_adder(x, y, z):\n",
    "    return x + y + z\n",
    "print(list(list_adder(list1, list2, list3)))\n",
    "'''    \n",
    "list1 = [1, 2, 3]\n",
    "list2 = [4, 5, 6]\n",
    "list3 = [7, 8, 9]\n",
    "\n",
    "# Your code here\n",
    "all_lists = list(map(lambda x, y, z: x + y + z, list1, list2, list3))\n",
    "print(all_lists)\n"
   ]
  },
  {
   "cell_type": "code",
   "execution_count": 5,
   "metadata": {},
   "outputs": [
    {
     "name": "stdout",
     "output_type": "stream",
     "text": [
      "[[1, 4, 7], [2, 5, 8], [3, 6, 9]]\n"
     ]
    }
   ],
   "source": [
    "# If I would like to have the list appended into one \n",
    "\n",
    "combined = list(map(lambda x, y, z: [x, y, z], list1, list2, list3))\n",
    "print(combined)"
   ]
  },
  {
   "cell_type": "markdown",
   "metadata": {},
   "source": [
    "### Exercise 3: Listify Strings\n",
    "Write a Python program that converts a list of strings into a list of lists containing individual characters using the `map` function."
   ]
  },
  {
   "cell_type": "code",
   "execution_count": 6,
   "metadata": {},
   "outputs": [
    {
     "data": {
      "text/plain": [
       "[['h', 'e', 'l', 'l', 'o'], ['w', 'o', 'r', 'l', 'd']]"
      ]
     },
     "execution_count": 6,
     "metadata": {},
     "output_type": "execute_result"
    }
   ],
   "source": [
    "# Fist with map and function\n",
    "# Sample input\n",
    "strings = [\"hello\", \"world\"]\n",
    "\n",
    "def separator (x):\n",
    "        return list(x)\n",
    "    \n",
    "\n",
    "list(map(separator, strings))\n"
   ]
  },
  {
   "cell_type": "code",
   "execution_count": 7,
   "metadata": {},
   "outputs": [
    {
     "name": "stdout",
     "output_type": "stream",
     "text": [
      "[['h', 'e', 'l', 'l', 'o'], ['w', 'o', 'r', 'l', 'd']]\n"
     ]
    }
   ],
   "source": [
    "# Sample input\n",
    "strings = [\"hello\", \"world\"]\n",
    "\n",
    "# Your code here\n",
    "listify = list(map(lambda x: list(x), strings))\n",
    "print(listify)\n"
   ]
  },
  {
   "cell_type": "markdown",
   "metadata": {},
   "source": [
    "### Exercise 4: Power of Numbers\n",
    "Write a Python program that creates a list containing the power of a number raised to the corresponding index in the list using the `map` function."
   ]
  },
  {
   "cell_type": "code",
   "execution_count": 8,
   "metadata": {},
   "outputs": [
    {
     "name": "stdout",
     "output_type": "stream",
     "text": [
      "[1, 2, 4, 8, 16]\n"
     ]
    }
   ],
   "source": [
    "# without Map or Lambda\n",
    "base_number = 2\n",
    "exponents = [0, 1, 2, 3, 4]\n",
    "\n",
    "def power(x, y):\n",
    "    results = []\n",
    "    for exponent in y:\n",
    "        result = x ** exponent\n",
    "        results.append(result)\n",
    "    return(results)\n",
    "\n",
    "print(power(base_number, exponents))\n",
    "    "
   ]
  },
  {
   "cell_type": "code",
   "execution_count": 9,
   "metadata": {},
   "outputs": [
    {
     "name": "stdout",
     "output_type": "stream",
     "text": [
      "[1, 2, 4, 8, 16]\n"
     ]
    }
   ],
   "source": [
    "# With map no lambda\n",
    "\n",
    "base_number = 2\n",
    "exponents = [0, 1, 2, 3, 4]\n",
    "\n",
    "def power(y):\n",
    "    return base_number ** y\n",
    "\n",
    "results = map (power, exponents)\n",
    "print(list(results))                         "
   ]
  },
  {
   "cell_type": "code",
   "execution_count": 10,
   "metadata": {},
   "outputs": [
    {
     "name": "stdout",
     "output_type": "stream",
     "text": [
      "[1, 2, 4, 8, 16]\n"
     ]
    }
   ],
   "source": [
    "# With map & lambda\n",
    "# Sample input\n",
    "base_number = 2\n",
    "exponents = [0, 1, 2, 3, 4]\n",
    "\n",
    "results = list(map(lambda y: base_number**y, exponents))\n",
    "print(results)\n",
    "# Your code here"
   ]
  },
  {
   "cell_type": "markdown",
   "metadata": {},
   "source": [
    "### Exercise 5: Square Elements of a List\n",
    "Write a Python program that squares the elements of a given list using the `map` function."
   ]
  },
  {
   "cell_type": "code",
   "execution_count": 11,
   "metadata": {},
   "outputs": [
    {
     "name": "stdout",
     "output_type": "stream",
     "text": [
      "[1, 4, 9, 16]\n"
     ]
    }
   ],
   "source": [
    "# Sample input\n",
    "numbers = [1, 2, 3, 4]\n",
    "\n",
    "results = list(map(lambda y: y**2, numbers))\n",
    "\n",
    "print(results)\n",
    "\n",
    "# Your code here"
   ]
  },
  {
   "cell_type": "markdown",
   "metadata": {},
   "source": [
    "### Exercise 6: Filter Even Numbers\n",
    "Write a Python program that filters out even numbers from a list using the `filter` function and `lambda`.\n"
   ]
  },
  {
   "cell_type": "code",
   "execution_count": 4,
   "metadata": {},
   "outputs": [
    {
     "name": "stdout",
     "output_type": "stream",
     "text": [
      "[1, 3, 5, 7]\n"
     ]
    }
   ],
   "source": [
    "# Sample input\n",
    "numbers = [1, 2, 3, 4, 5, 6,7]\n",
    "\n",
    "results = list(filter(lambda x: x%2==1, numbers))\n",
    "print(results)\n",
    "\n",
    "# Your code here"
   ]
  },
  {
   "cell_type": "code",
   "execution_count": null,
   "metadata": {},
   "outputs": [],
   "source": [
    "# Without lambda it has errors\n",
    "# Sample input\n",
    "numbers = [1, 2, 3, 4, 5, 6]\n",
    "def odd (x):\n",
    "    odd_list =[]\n",
    "    if x % 2 == 1:\n",
    "        print(x)\n",
    "        return odd_list.append()\n",
    "\n",
    "\n",
    "\n",
    "results = list(filter(odd, numbers))\n",
    "# Your code here"
   ]
  },
  {
   "cell_type": "code",
   "execution_count": null,
   "metadata": {},
   "outputs": [
    {
     "name": "stdout",
     "output_type": "stream",
     "text": [
      "[1, 3, 5, 7]\n"
     ]
    }
   ],
   "source": [
    "# Without lambda\n",
    "# Sample input\n",
    "numbers = [1, 2, 3, 4, 5, 6,7]\n",
    "def odd (x):\n",
    "    return x % 2 == 1\n",
    "\n",
    "\n",
    "\n",
    "results = list(filter(odd, numbers))\n",
    "print(results)\n",
    "# Your code here"
   ]
  },
  {
   "cell_type": "markdown",
   "metadata": {},
   "source": [
    "### Exercise 7: Uppercase Conversion with Map\n",
    "Write a Python program that converts all characters in a given list of strings to uppercase using the `map` function."
   ]
  },
  {
   "cell_type": "code",
   "execution_count": null,
   "metadata": {},
   "outputs": [
    {
     "name": "stdout",
     "output_type": "stream",
     "text": [
      "['HELLO', 'WORLD']\n"
     ]
    }
   ],
   "source": [
    "# Without map or lambda\n",
    "# Sample input\n",
    "list_words = [\"hello\", \"world\"]\n",
    "uppercased_list =[]\n",
    "def big_letters (words):\n",
    "    for word in words:\n",
    "        uppercased_word= word.upper()\n",
    "        uppercased_list.append(uppercased_word)\n",
    "    return uppercased_list\n",
    "\n",
    "print(big_letters(list_words))\n",
    "# Your code here"
   ]
  },
  {
   "cell_type": "code",
   "execution_count": null,
   "metadata": {},
   "outputs": [
    {
     "name": "stdout",
     "output_type": "stream",
     "text": [
      "['HELLO', 'WORLD']\n"
     ]
    }
   ],
   "source": [
    "# Without lambda\n",
    "# Sample input\n",
    "list_words = [\"hello\", \"world\"]\n",
    "\n",
    "def big_letters (words):\n",
    "    return words.upper()\n",
    "\n",
    "\"\"\"    for word in words:\n",
    "        uppercased_word= word.upper()\n",
    "        uppercased_list.append(uppercased_word)\n",
    "    return uppercased_list\n",
    "\"\"\"\n",
    "result = map(big_letters, list_words)\n",
    "print(list(result))\n",
    "\n",
    "# Your code here"
   ]
  },
  {
   "cell_type": "code",
   "execution_count": null,
   "metadata": {},
   "outputs": [
    {
     "name": "stdout",
     "output_type": "stream",
     "text": [
      "['HELLO', 'WORLD', 'HEHEHE']\n"
     ]
    }
   ],
   "source": [
    "# With maps & lambda\n",
    "\n",
    "list_words = [\"hello\", \"world\", \"hehehe\"]\n",
    "\n",
    "result = map(lambda x: x.upper(), list_words)\n",
    "print(list(result))\n"
   ]
  },
  {
   "cell_type": "markdown",
   "metadata": {},
   "source": [
    "### Exercise 8: Count Positive and Negative Numbers with Filter\n",
    "Write a Python program that counts how many positive and negative numbers are in a given list using the `filter` function."
   ]
  },
  {
   "cell_type": "code",
   "execution_count": null,
   "metadata": {},
   "outputs": [
    {
     "name": "stdout",
     "output_type": "stream",
     "text": [
      "{'apple': 3, 'banana': 2, 'orange': 1}\n"
     ]
    }
   ],
   "source": [
    "count_dict = {}\n",
    "def count_elements(lst):\n",
    "    \n",
    "    for item in lst:\n",
    "        if item in count_dict:\n",
    "            count_dict[item] += 1\n",
    "        else:\n",
    "            count_dict[item] = 1\n",
    "    \n",
    "    return count_dict\n",
    "\n",
    "# Sample List\n",
    "elements = ['apple', 'banana', 'apple', 'orange', 'banana', 'apple']\n",
    "\n",
    "# Count Occurrences\n",
    "element_counts = count_elements(elements)\n",
    "print(element_counts)  # Outputs: {'apple': 3, 'banana': 2, 'orange': 1}"
   ]
  },
  {
   "cell_type": "code",
   "execution_count": null,
   "metadata": {},
   "outputs": [],
   "source": [
    "# Sample input\n",
    "numbers = [-1, -2, -3, 1, 2, 3]\n",
    "def sign_counter(lst):\n",
    "    counter = {'positives':0, 'negatives': 0}\n",
    "\n",
    "    for nr in lst:\n",
    "        if nr < 0 :\n",
    "            # print(nr)\n",
    "            counter['negatives'] += 1\n",
    "        elif nr > 0:\n",
    "            counter['positives'] += 1\n",
    "    return counter\n",
    "\n",
    "print(sign_counter(numbers))\n",
    "\n",
    "\n",
    "# Your code here"
   ]
  },
  {
   "cell_type": "code",
   "execution_count": null,
   "metadata": {},
   "outputs": [
    {
     "name": "stdout",
     "output_type": "stream",
     "text": [
      "positive numbers: 3\n",
      "negative numbers: 3\n"
     ]
    }
   ],
   "source": [
    "# Sample input\n",
    "numbers = [-1, -2, -3, 1, 2, 3]\n",
    "\n",
    "def positive_numbers(nr):\n",
    "    return nr > 0\n",
    "def negative_numbers(nr):\n",
    "    return nr < 0\n",
    "\n",
    "positive_count = len(list(filter(positive_numbers, numbers)))\n",
    "negative_count = len(list(filter(negative_numbers, numbers)))\n",
    "print(\"positive numbers:\", positive_count)\n",
    "print(\"negative numbers:\", negative_count)\n"
   ]
  },
  {
   "cell_type": "markdown",
   "metadata": {},
   "source": [
    "### Exercise 9: Sum of Squares with Reduce\n",
    "Using the `reduce` function from the `functools` module, compute the sum of squares of all numbers in a given list.\n"
   ]
  },
  {
   "cell_type": "code",
   "execution_count": null,
   "metadata": {},
   "outputs": [
    {
     "name": "stdout",
     "output_type": "stream",
     "text": [
      "[1, 4, 9]\n",
      "14\n"
     ]
    }
   ],
   "source": [
    "from functools import reduce\n",
    "\n",
    "# Sample input\n",
    "numbers = [1, 2, 3]\n",
    "\n",
    "square = list(map(lambda y: y**2, numbers))\n",
    "print(square)\n",
    "sum_all_square = reduce(lambda x, y: x+y, square)\n",
    "# sum_all_square = reduce(square(0), square (1))\n",
    "print(sum_all_square)"
   ]
  },
  {
   "cell_type": "markdown",
   "metadata": {},
   "source": [
    "### Exercise 10: Lambda Function for Addition\n",
    "Create a lambda function that adds two numbers and test it with sample inputs."
   ]
  },
  {
   "cell_type": "code",
   "execution_count": null,
   "metadata": {},
   "outputs": [
    {
     "name": "stdout",
     "output_type": "stream",
     "text": [
      "16\n"
     ]
    }
   ],
   "source": [
    "# Your code here\n",
    "add = lambda x, y: x + y\n",
    "\n",
    "# Test the lambda function with sample inputs\n",
    "result = add(10, 6)\n",
    "print(result) # Expected output: 16"
   ]
  },
  {
   "cell_type": "markdown",
   "metadata": {},
   "source": [
    "### DONE Exercise 11: Filter Strings with Specific Lengths \n",
    "Write a Python program that filters strings from a list based on their length using the `filter` function."
   ]
  },
  {
   "cell_type": "code",
   "execution_count": null,
   "metadata": {},
   "outputs": [
    {
     "name": "stdout",
     "output_type": "stream",
     "text": [
      "['apple', 'banana', 'cherry']\n"
     ]
    }
   ],
   "source": [
    "# Sample input\n",
    "words = [\"apple\", \"banana\", \"cherry\", \"date\"]\n",
    "\n",
    "def counter (string):\n",
    "    return len(string) > 4\n",
    "\n",
    "longer_words = list(filter(counter, words))\n",
    "print(longer_words)\n",
    "# Your code here"
   ]
  },
  {
   "cell_type": "code",
   "execution_count": null,
   "metadata": {},
   "outputs": [
    {
     "name": "stdout",
     "output_type": "stream",
     "text": [
      "['apple', 'banana', 'cherry']\n"
     ]
    }
   ],
   "source": [
    "# With Lambda\n",
    "words = [\"apple\", \"banana\", \"cherry\", \"date\"]\n",
    "\n",
    "longer_words = list(filter(lambda x: len(x)>4, words))\n",
    "\n",
    "print(longer_words)"
   ]
  },
  {
   "cell_type": "markdown",
   "metadata": {},
   "source": [
    "### DONE  Exercise 12: Sort List of Tuples by Second Element \n",
    "Write a Python program that sorts a list of tuples based on the second element using the `sorted()` function and `lambda`."
   ]
  },
  {
   "cell_type": "code",
   "execution_count": null,
   "metadata": {},
   "outputs": [
    {
     "name": "stdout",
     "output_type": "stream",
     "text": [
      "[('c', 3), ('a', 2), ('b', 1)]\n"
     ]
    }
   ],
   "source": [
    "# Without Lambda\n",
    "# Sample input\n",
    "tuples_list = [('a', 2), ('b', 1), ('c', 3)]\n",
    "\n",
    "# def sorting (lst):\n",
    "\n",
    "sorted_list = sorted(tuples_list, key=lambda x: x[1], reverse=True)\n",
    "print(sorted_list)\n",
    "# Your code here"
   ]
  },
  {
   "cell_type": "code",
   "execution_count": null,
   "metadata": {},
   "outputs": [
    {
     "name": "stdout",
     "output_type": "stream",
     "text": [
      "[1, 2, 3, 17, 5, 12, 11]\n"
     ]
    }
   ],
   "source": [
    "# Example of sorted\n",
    "def myfunc(n):\n",
    "  return abs(10-n)\n",
    "\n",
    "a = (5, 3, 1, 11, 2, 12, 17)\n",
    "x = sorted(a, key=myfunc, reverse=True)\n",
    "print(x)"
   ]
  },
  {
   "cell_type": "markdown",
   "metadata": {},
   "source": [
    "### Exercise 13: Create Fibonacci Series Using Lambda \n",
    "Write a Python program to create Fibonacci series up to n using lambda functions."
   ]
  },
  {
   "cell_type": "code",
   "execution_count": null,
   "metadata": {},
   "outputs": [],
   "source": [
    "n = int(input(\"Enter n: \")) # e.g., n=5\n",
    "# Your code here\n",
    "fib = lambda n: (lambda f: f(f, 0, 1, [0]))(lambda self, a, b lst)"
   ]
  },
  {
   "cell_type": "code",
   "execution_count": 47,
   "metadata": {},
   "outputs": [
    {
     "name": "stdout",
     "output_type": "stream",
     "text": [
      "[0, 1, 1, 2, 3, 5, 8, 13, 21]\n"
     ]
    }
   ],
   "source": [
    "from functools import reduce\n",
    "n = int(input(\"Enter n: \")) # e.g., n=5\n",
    "\n",
    "# Lambda-based Fibonacci generator using reduce\n",
    "fib = lambda n: reduce(\n",
    "    lambda acc, _: acc + [acc[-1] + acc[-2]] if (acc[-1] + acc[-2] <= n) else acc,\n",
    "    range(n),  # Dummy iterable to control iterations\n",
    "    [0, 1] if n >= 1 else [0]  # Initial list\n",
    ")\n",
    "print(fib(n))"
   ]
  },
  {
   "cell_type": "code",
   "execution_count": 42,
   "metadata": {},
   "outputs": [
    {
     "name": "stdout",
     "output_type": "stream",
     "text": [
      "0\n",
      "1\n",
      "1\n",
      "2\n",
      "3\n",
      "5\n",
      "8\n",
      "13\n",
      "21\n",
      "34\n"
     ]
    }
   ],
   "source": [
    "# n = int(input(\"Enter n: \")) # e.g., n=5\n",
    "n = 5\n",
    "\n",
    "def fibonacci (n):\n",
    "    a, b = 0 , 1\n",
    "    for i in range(n):\n",
    "        print(a)\n",
    "        a, b = b, a + b \n",
    "         \n",
    "secuence = fibonacci(10)\n"
   ]
  },
  {
   "cell_type": "markdown",
   "metadata": {},
   "source": [
    "### DONE Exercise 14: Find Palindromes Using Filter \n",
    "Write a Python program that finds palindromes in a given list of strings using filter and lambda."
   ]
  },
  {
   "cell_type": "code",
   "execution_count": null,
   "metadata": {},
   "outputs": [
    {
     "name": "stdout",
     "output_type": "stream",
     "text": [
      "['php', 'Javaj', 'aaa']\n"
     ]
    }
   ],
   "source": [
    "strings = ['php', 'w3r', 'Python', 'abcd', 'Javaj', 'aaa']\n",
    "\n",
    "def is_palindrome(s):\n",
    "    s = s.lower()\n",
    "    return s == s[::-1]\n",
    "\n",
    "palindrome_list = list(filter(is_palindrome, strings))\n",
    "print(palindrome_list)\n",
    "\n",
    "# Your code here"
   ]
  },
  {
   "cell_type": "code",
   "execution_count": null,
   "metadata": {},
   "outputs": [
    {
     "name": "stdout",
     "output_type": "stream",
     "text": [
      "['php', 'Javaj', 'aaa']\n"
     ]
    }
   ],
   "source": [
    "strings = ['php', 'w3r', 'Python', 'abcd', 'Javaj', 'aaa']\n",
    "\n",
    "def is_palindrome(s):\n",
    "    s = s.lower()\n",
    "    return s == s[::-1]\n",
    "\n",
    "palindrome_list = list(filter(lambda s:   (s.lower() == s.lower()[::-1]), strings))\n",
    "\n",
    "# palindrome_list = list(filter(is_palindrome, strings))\n",
    "\n",
    "print(palindrome_list)"
   ]
  },
  {
   "cell_type": "markdown",
   "metadata": {},
   "source": [
    "### DONE Exercise 15: Extract Digits from String Using Lambda \n",
    "Write a Python program to extract digits from a given string and store them in a list using lambda."
   ]
  },
  {
   "cell_type": "code",
   "execution_count": null,
   "metadata": {},
   "outputs": [
    {
     "data": {
      "text/plain": [
       "['2', '3', '8', '5', '8', '5', '6']"
      ]
     },
     "execution_count": 15,
     "metadata": {},
     "output_type": "execute_result"
    }
   ],
   "source": [
    "input_string = \"sdf23sa8fs5sdfsd8sdfs56\"\n",
    "digits = []\n",
    "def remove_digits (s):\n",
    "            for char in s:\n",
    "                    if char.isdigit():\n",
    "                        digits.append(char)\n",
    "                    else:\n",
    "                        None\n",
    "            return digits\n",
    "\n",
    "remove_digits(input_string)"
   ]
  },
  {
   "cell_type": "code",
   "execution_count": null,
   "metadata": {},
   "outputs": [
    {
     "data": {
      "text/plain": [
       "['2', '3', '8', '5', '8', '5', '6']"
      ]
     },
     "execution_count": 17,
     "metadata": {},
     "output_type": "execute_result"
    }
   ],
   "source": [
    "input_string = \"sdf23sa8fs5sdfsd8sdfs56\"\n",
    "\n",
    "# Your code here\n",
    "\n",
    "extract_digit = list(filter(lambda x: x.isdigit(), input_string ))\n",
    "extract_digit"
   ]
  },
  {
   "cell_type": "markdown",
   "metadata": {},
   "source": [
    "### DONE Exercise 16: Count Vowels Using Lambda \n",
    "Write a Python program to count vowels in each word of a given list using map and lambda."
   ]
  },
  {
   "cell_type": "code",
   "execution_count": null,
   "metadata": {},
   "outputs": [
    {
     "data": {
      "text/plain": [
       "5"
      ]
     },
     "execution_count": 50,
     "metadata": {},
     "output_type": "execute_result"
    }
   ],
   "source": [
    "words = ['apple', 'banana', 'cherry']\n",
    "def vowel_counter(str):\n",
    "    vowels = \"aeiouAEIOU\"\n",
    "    counter = 0\n",
    "    for char in str:\n",
    "        if char in vowels:\n",
    "            counter += 1\n",
    "        else:\n",
    "            None\n",
    "    return counter\n",
    "\n",
    "vowel_counter(\"GeekforGeeks!\")\n",
    "\n",
    "\n"
   ]
  },
  {
   "cell_type": "code",
   "execution_count": null,
   "metadata": {},
   "outputs": [
    {
     "data": {
      "text/plain": [
       "11"
      ]
     },
     "execution_count": 5,
     "metadata": {},
     "output_type": "execute_result"
    }
   ],
   "source": [
    "word = \"GeekforGeeks!\"\n",
    "vowels = \"aeiouAEIOU\"\n",
    "\n",
    "count = sum(word.count(vowel) for vowel in vowels)\n",
    "count"
   ]
  },
  {
   "cell_type": "code",
   "execution_count": null,
   "metadata": {},
   "outputs": [],
   "source": [
    "vowels = \"aeiouAEIOU\"\n",
    "words = ['apple', 'banana', 'cherry']\n",
    "# THIS DID NOT WORK IT IS WRONG \n",
    "vowel_counter = map(lambda s: counter for char in s if char in vowels sum(counter) else None, words)"
   ]
  },
  {
   "cell_type": "code",
   "execution_count": null,
   "metadata": {},
   "outputs": [
    {
     "name": "stdout",
     "output_type": "stream",
     "text": [
      "vowels per word: [5, 6, 6]\n",
      "total vowels: 17\n"
     ]
    }
   ],
   "source": [
    "words = ['apple', 'banana', 'cherry']\n",
    "# Your code here\n",
    "vowels = \"aeiouAEIOU\"\n",
    "\n",
    "vowel_counter = list(map(lambda word: sum(1 for char in word), words))\n",
    "total_vowels = sum(vowel_counter)\n",
    "print(\"vowels per word:\", vowel_counter)\n",
    "print(\"total vowels:\", total_vowels)"
   ]
  },
  {
   "cell_type": "markdown",
   "metadata": {},
   "source": [
    "### DONE  Exercise 17: Remove Duplicates Using Lambda \n",
    "Write a Python program that removes duplicates from a list while preserving order using lambda functions."
   ]
  },
  {
   "cell_type": "code",
   "execution_count": null,
   "metadata": {},
   "outputs": [
    {
     "name": "stdout",
     "output_type": "stream",
     "text": [
      "[1, 2, 3]\n"
     ]
    }
   ],
   "source": [
    "def rem_dup (lst: list) -> list:\n",
    "    new_lst = []\n",
    "    for i in lst:\n",
    "        if i not in new_lst: \n",
    "            new_lst.append(i)\n",
    "        # else:\n",
    "    return new_lst\n",
    "\n",
    "numbers = [1, 2, 3, 1, 2]\n",
    "operation = rem_dup(numbers)\n",
    "print(operation)\n"
   ]
  },
  {
   "cell_type": "code",
   "execution_count": null,
   "metadata": {},
   "outputs": [],
   "source": [
    "# remove_dup = list(lambda lst: set(lst), numbers)   # this is not the aproach, that is wrong!\n"
   ]
  },
  {
   "cell_type": "code",
   "execution_count": null,
   "metadata": {},
   "outputs": [
    {
     "name": "stdout",
     "output_type": "stream",
     "text": [
      "[1, 2, 3]\n"
     ]
    }
   ],
   "source": [
    "numbers = [1, 2, 3, 1, 2]\n",
    "new_lst = []\n",
    "\n",
    "remove_dup = list(map(lambda x: new_lst.append(x) if x not in new_lst else None, numbers))\n",
    "print(new_lst)\n",
    "# Your code here"
   ]
  },
  {
   "cell_type": "markdown",
   "metadata": {},
   "source": [
    "### DONE Exercise 18: Find Maximum Value Using Reduce \n",
    "Use the reduce function to find the maximum value in a list of integers."
   ]
  },
  {
   "cell_type": "code",
   "execution_count": null,
   "metadata": {},
   "outputs": [
    {
     "name": "stdout",
     "output_type": "stream",
     "text": [
      "1\n"
     ]
    }
   ],
   "source": [
    "from functools import reduce\n",
    "\n",
    "numbers = [1, -5, -10, -20]\n",
    "\n",
    "def is_max (a, b):\n",
    "    if a > b:\n",
    "        return a\n",
    "    else:\n",
    "        return b\n",
    "\n",
    "max_value = reduce(is_max, numbers)\n",
    "print(max_value)\n",
    "\n",
    "# Your code here"
   ]
  },
  {
   "cell_type": "code",
   "execution_count": null,
   "metadata": {},
   "outputs": [
    {
     "data": {
      "text/plain": [
       "3"
      ]
     },
     "execution_count": 22,
     "metadata": {},
     "output_type": "execute_result"
    }
   ],
   "source": [
    "from functools import reduce\n",
    "\n",
    "numbers = [1, -5, -10, 3, -20]\n",
    "\n",
    "max_value = reduce(lambda a, b : a if a > b  else b, numbers)\n",
    "max_value"
   ]
  },
  {
   "cell_type": "markdown",
   "metadata": {},
   "source": [
    "### DONE Exercise 19: Filter Out Non-Numeric Values Using Lambda \n",
    "Write a Python program that filters out non-numeric values from an array using lambda functions."
   ]
  },
  {
   "cell_type": "code",
   "execution_count": null,
   "metadata": {},
   "outputs": [
    {
     "data": {
      "text/plain": [
       "[1, -5.0]"
      ]
     },
     "execution_count": 26,
     "metadata": {},
     "output_type": "execute_result"
    }
   ],
   "source": [
    "mixed_list = [1, 'two', True, None, -5.0]\n",
    "\n",
    "# Your code here\n",
    "\n",
    "extracted_numbers = list(filter(lambda x: isinstance(x, (int, float)) and not isinstance(x, bool), mixed_list ))  # --> add the not bool because bool will be recogniced as 0/1\n",
    "                                                # isinstance because isdigit only for strings\n",
    "\n",
    "extracted_numbers"
   ]
  },
  {
   "cell_type": "markdown",
   "metadata": {},
   "source": [
    "### DONE Exercise 20: Calculate Lengths of Strings Using Map \n",
    "Create a program that calculates the lengths of each string in a given list using map and lambda."
   ]
  },
  {
   "cell_type": "code",
   "execution_count": null,
   "metadata": {},
   "outputs": [
    {
     "name": "stdout",
     "output_type": "stream",
     "text": [
      "[5, 6, 6]\n",
      "{'apple': 5, 'banana': 6, 'cherry': 6}\n"
     ]
    }
   ],
   "source": [
    "strings = ['apple', 'banana', 'cherry']\n",
    "\n",
    "string_lenght = list(map(lambda x: len(x), strings))\n",
    "\n",
    "string_lenght_pairs = zip(strings, string_lenght)\n",
    "\n",
    "dict_of_strings = dict(string_lenght_pairs)\n",
    "\n",
    "print(string_lenght)\n",
    "# Your code here\n",
    "print(dict_of_strings)"
   ]
  },
  {
   "cell_type": "markdown",
   "metadata": {},
   "source": [
    "### DONE Exercise 21: Find Common Elements Between Two Lists Using Filter  \n",
    "Write a Python program to find common elements between two lists using filter and lambda."
   ]
  },
  {
   "cell_type": "code",
   "execution_count": null,
   "metadata": {},
   "outputs": [
    {
     "data": {
      "text/plain": [
       "[2, 3]"
      ]
     },
     "execution_count": 35,
     "metadata": {},
     "output_type": "execute_result"
    }
   ],
   "source": [
    "# Your code here\n",
    "list1 = [1,2,3]\n",
    "list2 = [2,3,4]\n",
    "\n",
    "common = list(filter(lambda x: x in list2, list1))\n",
    "common"
   ]
  },
  {
   "cell_type": "code",
   "execution_count": null,
   "metadata": {},
   "outputs": [],
   "source": [
    "# This doesn't work!!\n",
    "\n",
    "list1 = [1,2,3]\n",
    "list2 = [2,3,4]\n",
    "\n",
    "common = filter(lambda x, y: x == y, zip(list1, list2))\n",
    "commonL = list(common)\n",
    "\n",
    "'''Zip pairs elements by position:\n",
    "For list1 = [1,2,3] and list2 = [2,3,4], \n",
    "zip creates pairs like (1,2), (2,3), (3,4). This checks if elements at the same index are equal, \n",
    "not if they exist anywhere in the other list.'''\n"
   ]
  },
  {
   "cell_type": "markdown",
   "metadata": {},
   "source": [
    "### DONE Exercise 22: Convert Celsius to Fahrenheit Using Map  \n",
    "Create a program that converts temperatures from Celsius to Fahrenheit using map and lambda functions."
   ]
  },
  {
   "cell_type": "code",
   "execution_count": null,
   "metadata": {},
   "outputs": [
    {
     "data": {
      "text/plain": [
       "100.4"
      ]
     },
     "execution_count": 34,
     "metadata": {},
     "output_type": "execute_result"
    }
   ],
   "source": [
    "# --> °F = °C * 1.8 + 32\n",
    "\n",
    "def celcius_to_f (c):\n",
    "    return c * 1.8 + 32\n",
    "\n",
    "celcius_to_f(38)"
   ]
  },
  {
   "cell_type": "code",
   "execution_count": null,
   "metadata": {},
   "outputs": [
    {
     "name": "stdout",
     "output_type": "stream",
     "text": [
      "[32.0, 14.0, -40.0]\n"
     ]
    }
   ],
   "source": [
    "celsius_temps = [0, -10, -40]\n",
    "\n",
    "cel_to_f = list(map(lambda c: c*1.8 +32, celsius_temps))\n",
    "print(cel_to_f)\n",
    "\n",
    "# Your code here"
   ]
  },
  {
   "cell_type": "markdown",
   "metadata": {},
   "source": [
    "### DONE Exercise 23: Check for Prime Numbers Using Filter  \n",
    "Write a Python program that filters out prime numbers from an array of integers using filter and lambda functions."
   ]
  },
  {
   "cell_type": "code",
   "execution_count": 25,
   "metadata": {},
   "outputs": [
    {
     "data": {
      "text/plain": [
       "[23, 11, 19, 113, 7, 2]"
      ]
     },
     "execution_count": 25,
     "metadata": {},
     "output_type": "execute_result"
    }
   ],
   "source": [
    "# Lambda and filter!!\n",
    "numbers = [10, 15, 23, 11, 19, 113, 7, 2]\n",
    "\n",
    "is_prime_list =  list(filter(lambda x: (x > 1) and (x == 2) or x % 2 != 0 and not any(x % i == 0 for i in range(3, int(x**0.5) + 1, 2)), numbers))\n",
    "is_prime_list"
   ]
  },
  {
   "cell_type": "code",
   "execution_count": null,
   "metadata": {},
   "outputs": [
    {
     "name": "stdout",
     "output_type": "stream",
     "text": [
      "True\n"
     ]
    }
   ],
   "source": [
    "numbers = [10, 15, 23]\n",
    "number = 7\n",
    "# Your code here\n",
    "\n",
    "num = 7\n",
    "is_prime = lambda x: (x > 1) and (x == 2) or x % 2 != 0 and not any(x % i == 0 for i in range(3, int(x**0.5) + 1, 2))\n",
    "print(is_prime(num))"
   ]
  },
  {
   "cell_type": "code",
   "execution_count": null,
   "metadata": {},
   "outputs": [
    {
     "data": {
      "text/plain": [
       "'This is a prime number!'"
      ]
     },
     "execution_count": 10,
     "metadata": {},
     "output_type": "execute_result"
    }
   ],
   "source": [
    "# Function without square root\n",
    "\n",
    "def prime_check (num):\n",
    "    if num <= 1:\n",
    "        return \"This is not a prime number\"\n",
    "    elif num % 2 == 0:\n",
    "        return \"This is not a prime number\"\n",
    "    elif num == 2:\n",
    "        return \"This is a prime number!\"\n",
    "    for i in range(3, num, 2):\n",
    "        if num % i == 0:\n",
    "            return \"This is not a prime number\"\n",
    "    return \"This is a prime number!\"\n",
    "\n",
    "prime1 = prime_check(113)\n",
    "prime1"
   ]
  },
  {
   "cell_type": "code",
   "execution_count": 8,
   "metadata": {},
   "outputs": [
    {
     "name": "stdout",
     "output_type": "stream",
     "text": [
      "3\n",
      "5\n",
      "7\n",
      "9\n",
      "11\n",
      "13\n",
      "15\n",
      "17\n",
      "19\n",
      "21\n",
      "23\n",
      "25\n",
      "27\n",
      "29\n",
      "31\n",
      "33\n"
     ]
    },
    {
     "data": {
      "text/plain": [
       "'This is a prime number!'"
      ]
     },
     "execution_count": 8,
     "metadata": {},
     "output_type": "execute_result"
    }
   ],
   "source": [
    "# Function with square root\n",
    "\n",
    "def prime_check (num):\n",
    "    if num <= 1:\n",
    "        return \"This is not a prime number\"\n",
    "    elif num % 2 == 0:\n",
    "        return \"This is not a prime number\"\n",
    "    elif num == 2:\n",
    "        return \"This is a prime number!\"\n",
    "    for i in range(3, int(num**0.5)+1, 2):\n",
    "        print(i)\n",
    "        if num % i == 0:\n",
    "            return \"This is not a prime number\"\n",
    "    return \"This is a prime number!\"\n",
    "\n",
    "prime1 = prime_check(1103)\n",
    "prime1"
   ]
  },
  {
   "cell_type": "markdown",
   "metadata": {},
   "source": [
    "### DONE Exercise 24: Grouping by Length Using Lambda  \n",
    "Group words by their lengths from an array into separate lists using lambda functions."
   ]
  },
  {
   "cell_type": "code",
   "execution_count": 14,
   "metadata": {},
   "outputs": [
    {
     "name": "stdout",
     "output_type": "stream",
     "text": [
      "{5: ['apple'], 6: ['banana'], 4: ['pear', 'kiwi']}\n"
     ]
    }
   ],
   "source": [
    "from functools import reduce\n",
    "\n",
    "words = ['apple', 'banana', 'pear', 'kiwi']\n",
    "\n",
    "# Your code here\n",
    "grouped_by_length = reduce(\n",
    "    lambda acc, word: {\n",
    "        **acc, # Start with the current state of the accumulator\n",
    "        len(word): acc.get(len(word), []) + [word] # Append to existing list or create a new one\n",
    "    },\n",
    "    words,\n",
    "    {}\n",
    ")\n",
    "\n",
    "print(grouped_by_length) \n"
   ]
  },
  {
   "cell_type": "code",
   "execution_count": null,
   "metadata": {},
   "outputs": [
    {
     "data": {
      "text/plain": [
       "{5: ['apple'], 6: ['banana'], 4: ['pear', 'kiwi']}"
      ]
     },
     "execution_count": 41,
     "metadata": {},
     "output_type": "execute_result"
    }
   ],
   "source": [
    "words = ['apple', 'banana', 'pear', 'kiwi']\n",
    "\n",
    "grouped_by_length = {}\n",
    "\n",
    "def grouping_strings (lst: list) -> dict:\n",
    "    for word in lst:\n",
    "        word_lenght = len(word)\n",
    "        if word_lenght in grouped_by_length:\n",
    "           grouped_by_length[word_lenght].append(word)\n",
    "        else:\n",
    "            grouped_by_length[word_lenght] = [word]\n",
    "    return grouped_by_length\n",
    "\n",
    "grouped = grouping_strings(words)\n",
    "grouped"
   ]
  },
  {
   "cell_type": "markdown",
   "metadata": {},
   "source": [
    "### Exercise Completion  \n",
    "Once you have completed all exercises:\n",
    "- Review your solutions.\n",
    "- Ensure your code is well-documented with comments explaining your logic.\n",
    "- Save your notebook for submission or further review.\n",
    "\n",
    "Happy coding! Enjoy exploring functional programming with Python!"
   ]
  },
  {
   "cell_type": "markdown",
   "metadata": {},
   "source": [
    "# Its missing:\n",
    "\n",
    "### Exercise 13: Create Fibonacci Series Using Lambda \n",
    "\n",
    "\n",
    "### Exercise 23: Check for Prime Numbers Using Filter  \n"
   ]
  }
 ],
 "metadata": {
  "kernelspec": {
   "display_name": "datasci_env",
   "language": "python",
   "name": "python3"
  },
  "language_info": {
   "codemirror_mode": {
    "name": "ipython",
    "version": 3
   },
   "file_extension": ".py",
   "mimetype": "text/x-python",
   "name": "python",
   "nbconvert_exporter": "python",
   "pygments_lexer": "ipython3",
   "version": "3.8.20"
  }
 },
 "nbformat": 4,
 "nbformat_minor": 2
}
